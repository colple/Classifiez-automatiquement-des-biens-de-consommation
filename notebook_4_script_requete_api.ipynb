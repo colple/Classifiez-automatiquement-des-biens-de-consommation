{
 "cells": [
  {
   "cell_type": "markdown",
   "id": "bfadb7a8",
   "metadata": {},
   "source": [
    "# CLASSIFIEZ AUTOMATIQUEMENT DES BIENS DE CONSOMMATION"
   ]
  },
  {
   "cell_type": "markdown",
   "id": "49da250c",
   "metadata": {},
   "source": [
    "# Elargissement de la gamme de produits"
   ]
  },
  {
   "cell_type": "markdown",
   "id": "5dd13617",
   "metadata": {},
   "source": [
    "## Mission\n",
    "**Place de marché souhaite élargir sa gamme de produits, en particulier dans l’épicerie fine.**\n",
    "- **Etape 1: Tester la collecte de produits à base de “champagne” via l’API Rapid API, et plus précisément dans Edamam Food and Grocery Database**\n",
    "- **Etape 2: Extraire les 10 premiers produits dans un fichier “.csv”, contenant pour chaque produit les données suivantes : foodId, label, category, foodContentsLabel et image**"
   ]
  },
  {
   "cell_type": "code",
   "execution_count": 1,
   "id": "e9348670",
   "metadata": {},
   "outputs": [],
   "source": [
    "import requests\n",
    "import csv\n",
    "\n",
    "url = \"https://edamam-food-and-grocery-database.p.rapidapi.com/api/food-database/v2/parser\"\n",
    "querystring = {\"ingr\":\"champagne\"}\n",
    "headers = {\"X-RapidAPI-Key\": \"59ff205eddmshf80874c20f12373p16a2fajsn7e7791d7e4e0\", \n",
    "           \"X-RapidAPI-Host\": \"edamam-food-and-grocery-database.p.rapidapi.com\"}\n",
    "\n",
    "response = requests.get(url, headers=headers, params=querystring)\n",
    "\n",
    "if response.status_code == 200:  # Statut OK\n",
    "    data = response.json()\n",
    "    list_products = data.get(\"hints\", [])\n",
    "    \n",
    "    # Assuming you want to extract food label and food category from the products\n",
    "    with open(\"champagne_top_10.csv\", \"w\", newline=\"\") as file:\n",
    "        writer = csv.writer(file)\n",
    "        writer.writerow(['Food Id', 'Label', \"Category\", \"Food Contents Label\", \"image\" ])  # Nom des colonnes\n",
    "        counter=0\n",
    "        for product in list_products:\n",
    "            counter +=1\n",
    "            food = product.get('food', {})\n",
    "            food_id = food.get('foodId', 'N/A')\n",
    "            label = food.get('label', 'N/A')\n",
    "            category = food.get('category', 'N/A')\n",
    "            food_contents_label = food.get('foodContentsLabel', 'N/A')\n",
    "            image = food.get('image', 'N/A')\n",
    "            writer.writerow([food_id, label, category, food_contents_label, image])\n",
    "            if counter ==10:\n",
    "                break\n",
    "else:\n",
    "    print(f\"Error with status code: {response.status_code}\")"
   ]
  },
  {
   "cell_type": "markdown",
   "id": "0e5888aa",
   "metadata": {},
   "source": [
    "## Conclusion de l'extraction via l'API\n",
    "- **Seuls 3 des 10 premiers produits sont associés à une image: Risque de problème pour la classification supervisée sur les images**\n",
    "- **Le label et le food Contents Labels permettront à mon avis une classification supervisée sur les données textuelles si une modification est effectuée au niveau du nom de la catégorie**\n",
    "- **ATTENTION: Requête payante pour les entreprises** "
   ]
  },
  {
   "cell_type": "code",
   "execution_count": null,
   "id": "87e4c419",
   "metadata": {},
   "outputs": [],
   "source": []
  }
 ],
 "metadata": {
  "kernelspec": {
   "display_name": "Python 3 (ipykernel)",
   "language": "python",
   "name": "python3"
  },
  "language_info": {
   "codemirror_mode": {
    "name": "ipython",
    "version": 3
   },
   "file_extension": ".py",
   "mimetype": "text/x-python",
   "name": "python",
   "nbconvert_exporter": "python",
   "pygments_lexer": "ipython3",
   "version": "3.9.13"
  }
 },
 "nbformat": 4,
 "nbformat_minor": 5
}
